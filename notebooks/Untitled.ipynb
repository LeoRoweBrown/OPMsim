{
 "cells": [
  {
   "cell_type": "markdown",
   "id": "0f00c01b",
   "metadata": {},
   "source": [
    "## OPM and dOPM simulations\n",
    "\n",
    "First, setup the simulation i.e. the elements\n"
   ]
  },
  {
   "cell_type": "code",
   "execution_count": null,
   "id": "6ba12a95",
   "metadata": {},
   "outputs": [],
   "source": [
    "# Elements\n",
    "import sys\n",
    "if '..//' not in sys.path:\n",
    "    sys.path.append('..//')\n",
    "\n",
    "from opmsim.optical_system_base import OpticalSystem\n",
    "from opmsim import optical_elements\n",
    "from opmsim import dipole_source\n",
    "import numpy as np\n",
    "from matplotlib import pyplot as plt\n",
    "\n",
    "%matplotlib inline \n",
    "#notebook\n",
    "\n",
    "np.set_printoptions(threshold=sys.maxsize)\n",
    "\n",
    "\n",
    "diag = optical_elements.DiagonalMatrix(-1)\n",
    "\n",
    "\n"
   ]
  },
  {
   "cell_type": "code",
   "execution_count": null,
   "id": "16cdc1f5",
   "metadata": {},
   "outputs": [],
   "source": [
    "## OPM\n",
    "O1 = optical_elements.SineLens(NA=1.2, focal_length=0.180/60, n=1.33)\n",
    "TL1 = optical_elements.SineLens(NA=0.1, focal_length=0.180, n=1)\n",
    "TL2 = optical_elements.SineLens(NA=0.1, focal_length=0.162, n=1)\n",
    "O2 = optical_elements.SineLens(NA=0.95, focal_length=0.180/50, n=1)\n",
    "O3_35 = optical_elements.SineLens(NA=0.6, focal_length=0.200/40, n=1, yAxis_rotation=35*np.pi/180)\n",
    "O3_45 = optical_elements.SineLens(NA=0.6, focal_length=0.200/40, n=1, yAxis_rotation=45*np.pi/180)\n",
    "TL3 = optical_elements.SineLens(NA=0.1, focal_length=0.1013, n=1)\n",
    "\n",
    "source = dipole_source.DipoleSource()\n",
    "source.generate_dipoles(2500)\n",
    "source.classical_photoselection((np.pi/2,0))\n",
    "\n",
    "elements = [O1, TL1, TL2, O2, O3, TL3]\n",
    "\n",
    "options = {\n",
    "    'ray_count': 10000,\n",
    "    'draw_rays': False,\n",
    "    'max_rays_stored': 10000,\n",
    "}\n",
    "\n",
    "plot_options = {\n",
    "    'title': 'Pupil intensity at final image plane of dOPM microscope',\n",
    "    'add_sim_details': True,\n",
    "    'max_r_in': 0,\n",
    "    'scale_range': None# [0,0.3]\n",
    "}\n",
    "\n",
    "system = OpticalSystem(\"Single dipole anisotropy\", elements, source, options)\n"
   ]
  },
  {
   "cell_type": "code",
   "execution_count": null,
   "id": "6ff299eb",
   "metadata": {},
   "outputs": [],
   "source": [
    "QWP = optical_elements.WavePlate(np.pi/4, np.pi/2)\n",
    "\n",
    "LP = optical_elements.LinearPolariser(0)\n",
    "LP2 = optical_elements.LinearPolariser(np.pi/2)\n",
    "\n",
    "AgSiO2_mirror = optical_elements.FlatMirror(opm_angle/2, 158e-9, perfect_mirror=False, reflectance=1,\\\n",
    "                                            fresnel_debug_savedir=\"C:/Users/lnr19/code/OPMsim/output\")\n",
    "\n",
    "\n",
    "mirror = optical_elements.FlatMirror(opm_angle/2, 158e-9, perfect_mirror=True, reflectance=1,\\\n",
    "                                            fresnel_debug_savedir=\"C:/Users/lnr19/code/OPMsim/output\")"
   ]
  }
 ],
 "metadata": {
  "kernelspec": {
   "display_name": "Python 3 (ipykernel)",
   "language": "python",
   "name": "python3"
  },
  "language_info": {
   "codemirror_mode": {
    "name": "ipython",
    "version": 3
   },
   "file_extension": ".py",
   "mimetype": "text/x-python",
   "name": "python",
   "nbconvert_exporter": "python",
   "pygments_lexer": "ipython3",
   "version": "3.9.6"
  }
 },
 "nbformat": 4,
 "nbformat_minor": 5
}
