{
 "cells": [
  {
   "cell_type": "code",
   "execution_count": 1,
   "id": "90ce1d92",
   "metadata": {},
   "outputs": [
    {
     "ename": "ImportError",
     "evalue": "cannot import name 'meridional_transform_debug' from 'opmsim.matrices.transformation' (c:\\Users\\Leo\\python\\OPMsim\\notebooks\\testing\\..//..\\opmsim\\matrices\\transformation.py)",
     "output_type": "error",
     "traceback": [
      "\u001b[1;31m---------------------------------------------------------------------------\u001b[0m",
      "\u001b[1;31mImportError\u001b[0m                               Traceback (most recent call last)",
      "Cell \u001b[1;32mIn[1], line 7\u001b[0m\n\u001b[0;32m      5\u001b[0m \u001b[38;5;28;01mimport\u001b[39;00m \u001b[38;5;21;01mnumpy\u001b[39;00m \u001b[38;5;28;01mas\u001b[39;00m \u001b[38;5;21;01mnp\u001b[39;00m\n\u001b[0;32m      6\u001b[0m \u001b[38;5;28;01mfrom\u001b[39;00m \u001b[38;5;21;01mopmsim\u001b[39;00m\u001b[38;5;21;01m.\u001b[39;00m\u001b[38;5;21;01mmatrices\u001b[39;00m\u001b[38;5;21;01m.\u001b[39;00m\u001b[38;5;21;01mtransformation\u001b[39;00m \u001b[38;5;28;01mimport\u001b[39;00m meridional_transform\n\u001b[1;32m----> 7\u001b[0m \u001b[38;5;28;01mfrom\u001b[39;00m \u001b[38;5;21;01mopmsim\u001b[39;00m\u001b[38;5;21;01m.\u001b[39;00m\u001b[38;5;21;01mmatrices\u001b[39;00m\u001b[38;5;21;01m.\u001b[39;00m\u001b[38;5;21;01mtransformation\u001b[39;00m \u001b[38;5;28;01mimport\u001b[39;00m meridional_transform_debug\n\u001b[0;32m      8\u001b[0m \u001b[38;5;28;01mfrom\u001b[39;00m \u001b[38;5;21;01mopmsim\u001b[39;00m\u001b[38;5;21;01m.\u001b[39;00m\u001b[38;5;21;01mmatrices\u001b[39;00m\u001b[38;5;21;01m.\u001b[39;00m\u001b[38;5;21;01moptical_elements\u001b[39;00m \u001b[38;5;28;01mimport\u001b[39;00m lens_refraction_meridional\n\u001b[0;32m      9\u001b[0m \u001b[38;5;28;01mfrom\u001b[39;00m \u001b[38;5;21;01mopmsim\u001b[39;00m\u001b[38;5;21;01m.\u001b[39;00m\u001b[38;5;21;01mmatrices\u001b[39;00m\u001b[38;5;21;01m.\u001b[39;00m\u001b[38;5;21;01moptical_elements\u001b[39;00m \u001b[38;5;28;01mimport\u001b[39;00m lens_refraction_meridional_debug\n",
      "\u001b[1;31mImportError\u001b[0m: cannot import name 'meridional_transform_debug' from 'opmsim.matrices.transformation' (c:\\Users\\Leo\\python\\OPMsim\\notebooks\\testing\\..//..\\opmsim\\matrices\\transformation.py)"
     ]
    }
   ],
   "source": [
    "import sys\n",
    "if '..//..//' not in sys.path:\n",
    "    sys.path.append('..//../')\n",
    "\n",
    "import numpy as np\n",
    "from opmsim.matrices.transformation import meridional_transform\n",
    "from opmsim.matrices.transformation import meridional_transform_debug\n",
    "from opmsim.matrices.optical_elements import lens_refraction_meridional\n",
    "from opmsim.matrices.optical_elements import lens_refraction_meridional_debug\n",
    "\n",
    "phi = np.linspace(0, 2*np.pi, 2)\n",
    "theta = np.linspace(0, np.pi/2, 2)\n",
    "\n",
    "zeros = np.zeros_like(phi)  # so we can make a tensor\n",
    "ones = np.ones_like(phi)\n",
    "meridional_matrix = np.array([\n",
    "    [np.cos(phi), np.sin(phi), zeros],\n",
    "    [-np.sin(phi), np.cos(phi), zeros],\n",
    "    [zeros, zeros, ones]\n",
    "])\n",
    "\n",
    "print(meridional_matrix)\n",
    "print(meridional_matrix.swapaxes(-1, 0))\n",
    "\n",
    "\n",
    "# print(meridional_transform(phi) - meridional_transform_debug(phi))\n",
    "# print(meridional_transform(phi, inverse=True) - meridional_transform_debug(phi, inverse=True))\n",
    "\n",
    "# print(lens_refraction_meridional_debug(-theta) - lens_refraction_meridional(-theta))\n",
    "\n",
    "# print(\"old\", lens_refraction_meridional_debug(-theta))#\n",
    "# print(\"new\", lens_refraction_meridional(-theta))"
   ]
  },
  {
   "cell_type": "code",
   "execution_count": 15,
   "id": "55f06ae2",
   "metadata": {},
   "outputs": [
    {
     "ename": "TypeError",
     "evalue": "len() of unsized object",
     "output_type": "error",
     "traceback": [
      "\u001b[1;31m---------------------------------------------------------------------------\u001b[0m",
      "\u001b[1;31mTypeError\u001b[0m                                 Traceback (most recent call last)",
      "Cell \u001b[1;32mIn[15], line 1\u001b[0m\n\u001b[1;32m----> 1\u001b[0m \u001b[38;5;28;43mlen\u001b[39;49m\u001b[43m(\u001b[49m\u001b[43mnp\u001b[49m\u001b[38;5;241;43m.\u001b[39;49m\u001b[43marray\u001b[49m\u001b[43m(\u001b[49m\u001b[38;5;241;43m4\u001b[39;49m\u001b[43m)\u001b[49m\u001b[43m)\u001b[49m\n",
      "\u001b[1;31mTypeError\u001b[0m: len() of unsized object"
     ]
    }
   ],
   "source": [
    "len(np.array(4))"
   ]
  },
  {
   "cell_type": "code",
   "execution_count": null,
   "id": "6f6dd4f6",
   "metadata": {},
   "outputs": [],
   "source": [
    "import numpy as np\n",
    "from timeit import timeit\n",
    "import sys \n",
    "\n",
    "phi = np.linspace(0,2*np.pi,100)\n",
    "theta = np.linspace(0,np.pi,100)\n",
    "\n",
    "tensor = np.zeros((len(phi), 3, 3))\n",
    "length = len(phi)\n",
    "\n",
    "\n",
    "def tensor_for(phi, theta):\n",
    "    for n in range(len(phi)):\n",
    "        tensor[n, :, :] = np.array([\n",
    "                [phi[n], 0, 0],\n",
    "                [0, theta[n], 0],\n",
    "                [0, 0, 1]\n",
    "    ])\n",
    "        \n",
    "def tensor_stack(phi, theta):\n",
    "    tensor = np.stack([\n",
    "        [phi, np.zeros_like(phi), np.zeros_like(phi)],\n",
    "        [np.zeros_like(phi), theta, np.zeros_like(phi)],\n",
    "        [np.zeros_like(phi), np.zeros_like(phi), np.ones_like(phi)]], axis=-1)\n",
    "\n",
    "def tensor_stack2(phi, theta):\n",
    "    tensor = np.array([\n",
    "        [phi, np.zeros_like(phi), np.zeros_like(phi)],\n",
    "        [np.zeros_like(phi), theta, np.zeros_like(phi)],\n",
    "        [np.zeros_like(phi), np.zeros_like(phi), np.ones_like(phi)]\n",
    "    ])\n",
    "\n",
    "def tensor_stack_len(phi, theta):\n",
    "    \"\"\"_summary_\n",
    "\n",
    "    Args:\n",
    "        phi (_type_): _description_\n",
    "        theta (_type_): _description_\n",
    "    \"\"\"\n",
    "    length = len(phi)\n",
    "    zero = np.zeros(length)\n",
    "    tensor = np.array([\n",
    "        [phi, zero, zero],\n",
    "        [zero, theta, zero],\n",
    "        [zero, zero, np.ones_like(phi)]\n",
    "    ])\n",
    "\n",
    "tensor_for(phi, theta)\n",
    "tensor_stack(phi, theta)\n",
    "tensor_stack2(phi, theta)\n",
    "\n",
    "\n",
    "\n",
    "tensor_stack(1, 1)\n",
    "tensor_stack2(1, 1)"
   ]
  },
  {
   "cell_type": "code",
   "execution_count": null,
   "id": "395d655d",
   "metadata": {},
   "outputs": [],
   "source": [
    "# %timeit tensor_for(phi, theta)\n",
    "%timeit tensor_stack(phi, theta)\n",
    "%timeit tensor_stack2(phi, theta)\n",
    "%timeit tensor_stack_len(phi, theta)"
   ]
  },
  {
   "cell_type": "code",
   "execution_count": null,
   "id": "10bef480",
   "metadata": {},
   "outputs": [],
   "source": [
    "k1 = np.zeros(20000*10000)\n",
    "\n",
    "k_vec = np.column_stack([\n",
    "    k1, k1, k1\n",
    "])\n",
    "\n",
    "print(k_vec.shape)\n",
    "print(sys.getsizeof(k_vec)*1e-6)"
   ]
  }
 ],
 "metadata": {
  "kernelspec": {
   "display_name": "opmsim",
   "language": "python",
   "name": "python3"
  },
  "language_info": {
   "codemirror_mode": {
    "name": "ipython",
    "version": 3
   },
   "file_extension": ".py",
   "mimetype": "text/x-python",
   "name": "python",
   "nbconvert_exporter": "python",
   "pygments_lexer": "ipython3",
   "version": "3.12.2"
  }
 },
 "nbformat": 4,
 "nbformat_minor": 5
}
