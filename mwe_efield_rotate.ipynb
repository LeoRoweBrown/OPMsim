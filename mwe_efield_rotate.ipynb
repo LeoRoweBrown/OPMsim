{
 "cells": [
  {
   "cell_type": "code",
   "execution_count": null,
   "source": [
    "import numpy as np\r\n",
    "\r\n",
    "theta = np.pi/4\r\n",
    "phi = 0\r\n",
    "\r\n",
    "p_vec = [1 0 0]\r\n",
    "\r\n",
    "n_vec = [ np.sin(theta)*np.cos(phi), np.sin(theta)*np.sin(phi), \\\r\n",
    "    np.cos(theta)]\r\n",
    "n_x_p = np.cross(n_vec,p_vec)"
   ],
   "outputs": [],
   "metadata": {}
  }
 ],
 "metadata": {
  "orig_nbformat": 4,
  "language_info": {
   "name": "python"
  }
 },
 "nbformat": 4,
 "nbformat_minor": 2
}