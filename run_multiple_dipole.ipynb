{
 "cells": [
  {
   "cell_type": "code",
   "execution_count": null,
   "source": [
    "from plot_multiple_dipoles import plot_random_dipole_source\r\n",
    "import dipole_source\r\n",
    "\r\n",
    "# dipoles = dipole_source.DipoleSource(20)\r\n",
    "# points, data_intensity_x, data_intensity_y = dipoles.calculate_pupil_radiation(1)\r\n",
    "\r\n",
    "# print(points)\r\n",
    "# print(data_intensity_x)\r\n",
    "# print(data_intensity_y)\r\n",
    "\r\n",
    "save_dir = 'C:/Users/Leo/Documents/fogim/multiple_dipole_sims_transformation'\r\n",
    "\r\n",
    "plot_random_dipole_source(NA=1, dipole_count=200, save_dir = save_dir, show_prints=False)"
   ],
   "outputs": [],
   "metadata": {}
  },
  {
   "cell_type": "code",
   "execution_count": null,
   "source": [
    "from plot_multiple_dipoles import plot_random_dipole_source\r\n",
    "import dipole_source\r\n",
    "\r\n",
    "# dipoles = dipole_source.DipoleSource(20)\r\n",
    "# points, data_intensity_x, data_intensity_y = dipoles.calculate_pupil_radiation(1)\r\n",
    "\r\n",
    "# print(points)\r\n",
    "# print(data_intensity_x)\r\n",
    "# print(data_intensity_y)\r\n",
    "\r\n",
    "plot_random_dipole_source(NA=1, dipole_count=100, save_dir = None, show_prints=False)"
   ],
   "outputs": [],
   "metadata": {}
  }
 ],
 "metadata": {
  "orig_nbformat": 4,
  "language_info": {
   "name": "python",
   "version": "3.9.6",
   "mimetype": "text/x-python",
   "codemirror_mode": {
    "name": "ipython",
    "version": 3
   },
   "pygments_lexer": "ipython3",
   "nbconvert_exporter": "python",
   "file_extension": ".py"
  },
  "kernelspec": {
   "name": "python3",
   "display_name": "Python 3.9.6 64-bit ('polarisation_model': conda)"
  },
  "interpreter": {
   "hash": "721724324ec5610e9bba81456ed2232dab219595ee1d551102ac9f8f2ff30c94"
  }
 },
 "nbformat": 4,
 "nbformat_minor": 2
}