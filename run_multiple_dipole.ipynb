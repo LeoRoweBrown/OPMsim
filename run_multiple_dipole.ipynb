{
 "cells": [
  {
   "cell_type": "code",
   "execution_count": null,
   "source": [
    "from plot_multiple_dipoles import plot_random_dipole_source\r\n",
    "import dipole_source\r\n",
    "\r\n",
    "# dipoles = dipole_source.DipoleSource(20)\r\n",
    "# points, data_intensity_x, data_intensity_y = dipoles.calculate_pupil_radiation(1)\r\n",
    "\r\n",
    "# print(points)\r\n",
    "# print(data_intensity_x)\r\n",
    "# print(data_intensity_y)\r\n",
    "\r\n",
    "# plot_random_dipole_source(NA=1, dipole_count=100, save_dir = None, randomly=False, show_prints=False)\r\n",
    "plot_random_dipole_source(NA=1, dipole_count=100, save_dir = None, randomly=True, show_prints=False)"
   ],
   "outputs": [],
   "metadata": {}
  },
  {
   "cell_type": "code",
   "execution_count": null,
   "source": [
    "from plot_multiple_dipoles import *\r\n",
    "import numpy as np\r\n",
    "import dipole_source\r\n",
    "\r\n",
    "phi = np.arange(0, 2*np.pi, np.pi/4)\r\n",
    "alpha = np.arange(0,  np.pi/2+0.1, np.pi/6)\r\n",
    "\r\n",
    "save_dir = 'C:/Users/Leo/Documents/fogim/single_dipole_sims_transformation_flat'\r\n",
    "save_dir = 'Z:/User data/Leo Rowe-Brown/OPMsim_output/single_dipole_newcode_curved'\r\n",
    "save_dir = 'Z:/User data/Leo Rowe-Brown/OPMsim_output/single_dipole_newcode_bfp'\r\n",
    "# save_dir = None\r\n",
    "\r\n",
    "for p in phi:\r\n",
    "    for a in alpha:\r\n",
    "        print((p, a))\r\n",
    "        # NA of 1 with a flat pupil goes to inifinity in diameter!!\r\n",
    "        # simulate_single_dipole_cartesian(p, t, 0.8, save_dir=save_dir, plot_pupil=True)\r\n",
    "        save_dir_full = save_dir + '/alpha_%.1f' % (a*180.0/np.pi)\r\n",
    "        plot_single_dipole_source(a, p, NA=0.9, dipole_obj=None, \r\n",
    "            save_dir=save_dir_full, show_prints=False, pupil='bfp')\r\n",
    "\r\n",
    "# plot_random_dipole_source(NA=1, dipole_count=100, save_dir = None, randomly=False, show_prints=False)\r\n"
   ],
   "outputs": [],
   "metadata": {}
  }
 ],
 "metadata": {
  "orig_nbformat": 4,
  "language_info": {
   "name": "python",
   "version": "3.9.6",
   "mimetype": "text/x-python",
   "codemirror_mode": {
    "name": "ipython",
    "version": 3
   },
   "pygments_lexer": "ipython3",
   "nbconvert_exporter": "python",
   "file_extension": ".py"
  },
  "kernelspec": {
   "name": "python3",
   "display_name": "Python 3.9.6 64-bit ('polarisation_model': conda)"
  },
  "interpreter": {
   "hash": "fcc878ffd3a1ef17a9b48e7828b0bd863bfb230d507aa9c6eb7823bed6233255"
  }
 },
 "nbformat": 4,
 "nbformat_minor": 2
}